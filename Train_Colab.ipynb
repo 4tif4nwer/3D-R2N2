{
  "nbformat": 4,
  "nbformat_minor": 0,
  "metadata": {
    "colab": {
      "name": "Train_Colab.ipynb",
      "provenance": [],
      "authorship_tag": "ABX9TyO93p1LHo6ng/SYWoYuTJ6g",
      "include_colab_link": true
    },
    "kernelspec": {
      "name": "python3",
      "display_name": "Python 3"
    },
    "language_info": {
      "name": "python"
    },
    "accelerator": "GPU"
  },
  "cells": [
    {
      "cell_type": "markdown",
      "metadata": {
        "id": "view-in-github",
        "colab_type": "text"
      },
      "source": [
        "<a href=\"https://colab.research.google.com/github/4tif4nwer/3D-R2N2/blob/master/Train_Colab.ipynb\" target=\"_parent\"><img src=\"https://colab.research.google.com/assets/colab-badge.svg\" alt=\"Open In Colab\"/></a>"
      ]
    },
    {
      "cell_type": "code",
      "execution_count": 18,
      "metadata": {
        "id": "09PmVA2G9Kr7",
        "outputId": "5e2e39e6-485c-4921-9f0f-785f99d372a2",
        "colab": {
          "base_uri": "https://localhost:8080/"
        }
      },
      "outputs": [
        {
          "output_type": "stream",
          "name": "stdout",
          "text": [
            "Requirement already satisfied: numpy in /usr/local/lib/python3.7/dist-packages (1.19.5)\n",
            "Requirement already satisfied: EasyDict in /usr/local/lib/python3.7/dist-packages (1.9)\n",
            "Requirement already satisfied: Pillow in /usr/local/lib/python3.7/dist-packages (7.1.2)\n",
            "Requirement already satisfied: pyyaml in /usr/local/lib/python3.7/dist-packages (3.13)\n",
            "Requirement already satisfied: sklearn in /usr/local/lib/python3.7/dist-packages (0.0)\n",
            "Requirement already satisfied: scikit-learn in /usr/local/lib/python3.7/dist-packages (from sklearn) (1.0.1)\n",
            "Requirement already satisfied: numpy>=1.14.6 in /usr/local/lib/python3.7/dist-packages (from scikit-learn->sklearn) (1.19.5)\n",
            "Requirement already satisfied: scipy>=1.1.0 in /usr/local/lib/python3.7/dist-packages (from scikit-learn->sklearn) (1.4.1)\n",
            "Requirement already satisfied: joblib>=0.11 in /usr/local/lib/python3.7/dist-packages (from scikit-learn->sklearn) (1.1.0)\n",
            "Requirement already satisfied: threadpoolctl>=2.0.0 in /usr/local/lib/python3.7/dist-packages (from scikit-learn->sklearn) (3.0.0)\n"
          ]
        }
      ],
      "source": [
        "#!git clone https://github.com/4tif4nwer/3D-R2N2.git\n",
        "#!mv 3D-R2N2/* ./\n",
        "!pip install numpy\n",
        "!pip install Theano>=0.8\n",
        "!pip install EasyDict\n",
        "!pip install Pillow\n",
        "!pip install pyyaml\n",
        "!pip install sklearn\n"
      ]
    },
    {
      "cell_type": "code",
      "source": [
        "!pip install Theano>=0.8\n",
        "!bash experiments/scripts/res_gru_net.sh"
      ],
      "metadata": {
        "id": "2vKkSEQ6NCSb",
        "outputId": "5d253341-05c8-44a3-9b58-8d1891c71964",
        "colab": {
          "base_uri": "https://localhost:8080/"
        }
      },
      "execution_count": 19,
      "outputs": [
        {
          "output_type": "stream",
          "name": "stdout",
          "text": [
            "+ set -e\n",
            "+ export PYTHONUNBUFFERED=True\n",
            "+ PYTHONUNBUFFERED=True\n",
            "+ NET_NAME=ResidualGRUNet\n",
            "+ EXP_DETAIL=default_model\n",
            "+ OUT_PATH=./output/ResidualGRUNet/default_model\n",
            "++ date +%Y-%m-%d_%H-%M-%S\n",
            "+ LOG=./output/ResidualGRUNet/default_model/log.2021-12-27_14-04-37\n",
            "+ mkdir -p ./output/ResidualGRUNet/default_model\n",
            "+ exec\n",
            "++ tee -a ./output/ResidualGRUNet/default_model/log.2021-12-27_14-04-37\n",
            "+ echo Logging output to ./output/ResidualGRUNet/default_model/log.2021-12-27_14-04-37\n",
            "Logging output to ./output/ResidualGRUNet/default_model/log.2021-12-27_14-04-37\n",
            "+ export 'THEANO_FLAGS=floatX=float32,device=gpu,assert_no_cpu_op='\\''raise'\\'''\n",
            "+ THEANO_FLAGS='floatX=float32,device=gpu,assert_no_cpu_op='\\''raise'\\'''\n",
            "+ python main.py --batch-size 24 --iter 60000 --out ./output/ResidualGRUNet/default_model --model ResidualGRUNet\n",
            "Traceback (most recent call last):\n",
            "  File \"main.py\", line 13, in <module>\n",
            "    import theano.sandbox.cuda\n",
            "  File \"/usr/local/lib/python3.7/dist-packages/theano/__init__.py\", line 88, in <module>\n",
            "    from theano.configdefaults import config\n",
            "  File \"/usr/local/lib/python3.7/dist-packages/theano/configdefaults.py\", line 137, in <module>\n",
            "    in_c_key=False)\n",
            "  File \"/usr/local/lib/python3.7/dist-packages/theano/configparser.py\", line 287, in AddConfigVar\n",
            "    configparam.__get__(root, type(root), delete_key=True)\n",
            "  File \"/usr/local/lib/python3.7/dist-packages/theano/configparser.py\", line 335, in __get__\n",
            "    self.__set__(cls, val_str)\n",
            "  File \"/usr/local/lib/python3.7/dist-packages/theano/configparser.py\", line 346, in __set__\n",
            "    self.val = self.filter(val)\n",
            "  File \"/usr/local/lib/python3.7/dist-packages/theano/configdefaults.py\", line 116, in filter\n",
            "    'You are tring to use the old GPU back-end. '\n",
            "ValueError: You are tring to use the old GPU back-end. It was removed from Theano. Use device=cuda* now. See https://github.com/Theano/Theano/wiki/Converting-to-the-new-gpu-back-end%28gpuarray%29 for more information.\n"
          ]
        }
      ]
    }
  ]
}